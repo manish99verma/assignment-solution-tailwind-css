{
  "nbformat": 4,
  "nbformat_minor": 0,
  "metadata": {
    "colab": {
      "provenance": []
    },
    "kernelspec": {
      "name": "python3",
      "display_name": "Python 3"
    },
    "language_info": {
      "name": "python"
    }
  },
  "cells": [
    {
      "cell_type": "markdown",
      "source": [
        "1. Create a User login page interface that closely resembles the provided image using Tailwind CSS. The goal is to ensure that your implementation captures every visual detail and layout aspect depicted in the image while maintaining a full mobile responsiveness.\n",
        "- [Live Url](https://manish99verma.github.io/tailwind-form-assignment/)\n",
        "\n",
        "  [Source Code](https://github.com/manish99verma/tailwind-form-assignment)\n",
        "\n",
        "2. Create a responsive image gallery using Tailwind CSS. The gallery should display a grid of images that adjust their size and layout based on the screen size.\n",
        "- [Live Url](https://tailwind-image-gallery-assignment-p.vercel.app/)\n",
        "\n",
        "  [Source Code](https://github.com/manish99verma/tailwind-image-gallery-assignment-pw)\n",
        "\n",
        "3. Create a non-responsive dashboard using Tailwind CSS, where the dashboard should include a sidebar navigation menu and a main contain area. Making it responsive is optional. Feel free to use any icons from any place, Your goal is to design a visually appealing and user-friendly dashboard interface that is not responsive.\n",
        "- [Live Url](https://dashboard-assignment-pw.vercel.app/)\n",
        "\n",
        "  [Source Code](https://github.com/manish99verma/dashboard-assignment-pw)"
      ],
      "metadata": {
        "id": "ziusz-5MRISC"
      }
    }
  ]
}